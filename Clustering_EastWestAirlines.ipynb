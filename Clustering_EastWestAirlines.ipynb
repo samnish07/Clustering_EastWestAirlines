{
 "cells": [
  {
   "cell_type": "markdown",
   "id": "0a35549a",
   "metadata": {},
   "source": [
    "### Perform clustering (hierarchical,K means clustering and DBSCAN) for the airlines data to obtain optimum number of clusters. Draw the inferences from the clusters obtained.\n",
    "\n",
    "Data Description:\n",
    " \n",
    "The file EastWestAirlinescontains information on passengers who belong to an airline’s frequent flier program. For each passenger the data include information on their mileage history and on different ways they accrued or spent miles in the last year. The goal is to try to identify clusters of passengers that have similar characteristics for the purpose of targeting different segments for different types of mileage offers\n",
    "\n",
    "ID --Unique ID\n",
    "\n",
    "Balance--Number of miles eligible for award travel\n",
    "\n",
    "Qual_mile--Number of miles counted as qualifying for Topflight status\n",
    "\n",
    "cc1_miles -- Number of miles earned with freq. flyer credit card in the past 12 months:\n",
    "cc2_miles -- Number of miles earned with Rewards credit card in the past 12 months:\n",
    "cc3_miles -- Number of miles earned with Small Business credit card in the past 12 months:\n",
    "\n",
    "1 = under 5,000\n",
    "2 = 5,000 - 10,000\n",
    "3 = 10,001 - 25,000\n",
    "4 = 25,001 - 50,000\n",
    "5 = over 50,000\n",
    "\n",
    "Bonus_miles--Number of miles earned from non-flight bonus transactions in the past 12 months\n",
    "\n",
    "Bonus_trans--Number of non-flight bonus transactions in the past 12 months\n",
    "\n",
    "Flight_miles_12mo--Number of flight miles in the past 12 months\n",
    "\n",
    "Flight_trans_12--Number of flight transactions in the past 12 months\n",
    "\n",
    "Days_since_enrolled--Number of days since enrolled in flier program\n",
    "\n",
    "Award--whether that person had award flight (free flight) or not"
   ]
  },
  {
   "cell_type": "code",
   "execution_count": 16,
   "id": "75b8c1bd",
   "metadata": {},
   "outputs": [],
   "source": [
    "import pandas as pd\n",
    "import numpy as np\n",
    "import seaborn as sns\n",
    "import matplotlib.pyplot as plt\n",
    "plt.style.use('ggplot')\n",
    "\n",
    "import warnings\n",
    "warnings.filterwarnings('ignore')"
   ]
  },
  {
   "cell_type": "code",
   "execution_count": 26,
   "id": "4831a72a",
   "metadata": {},
   "outputs": [
    {
     "data": {
      "text/html": [
       "<div>\n",
       "<style scoped>\n",
       "    .dataframe tbody tr th:only-of-type {\n",
       "        vertical-align: middle;\n",
       "    }\n",
       "\n",
       "    .dataframe tbody tr th {\n",
       "        vertical-align: top;\n",
       "    }\n",
       "\n",
       "    .dataframe thead th {\n",
       "        text-align: right;\n",
       "    }\n",
       "</style>\n",
       "<table border=\"1\" class=\"dataframe\">\n",
       "  <thead>\n",
       "    <tr style=\"text-align: right;\">\n",
       "      <th></th>\n",
       "      <th>Balance</th>\n",
       "      <th>Qual_miles</th>\n",
       "      <th>cc1_miles</th>\n",
       "      <th>cc2_miles</th>\n",
       "      <th>cc3_miles</th>\n",
       "      <th>Bonus_miles</th>\n",
       "      <th>Bonus_trans</th>\n",
       "      <th>Flight_miles_12mo</th>\n",
       "      <th>Flight_trans_12</th>\n",
       "      <th>Days_since_enroll</th>\n",
       "      <th>Award</th>\n",
       "    </tr>\n",
       "    <tr>\n",
       "      <th>ID</th>\n",
       "      <th></th>\n",
       "      <th></th>\n",
       "      <th></th>\n",
       "      <th></th>\n",
       "      <th></th>\n",
       "      <th></th>\n",
       "      <th></th>\n",
       "      <th></th>\n",
       "      <th></th>\n",
       "      <th></th>\n",
       "      <th></th>\n",
       "    </tr>\n",
       "  </thead>\n",
       "  <tbody>\n",
       "    <tr>\n",
       "      <th>1</th>\n",
       "      <td>28143</td>\n",
       "      <td>0</td>\n",
       "      <td>1</td>\n",
       "      <td>1</td>\n",
       "      <td>1</td>\n",
       "      <td>174</td>\n",
       "      <td>1</td>\n",
       "      <td>0</td>\n",
       "      <td>0</td>\n",
       "      <td>7000</td>\n",
       "      <td>0</td>\n",
       "    </tr>\n",
       "    <tr>\n",
       "      <th>2</th>\n",
       "      <td>19244</td>\n",
       "      <td>0</td>\n",
       "      <td>1</td>\n",
       "      <td>1</td>\n",
       "      <td>1</td>\n",
       "      <td>215</td>\n",
       "      <td>2</td>\n",
       "      <td>0</td>\n",
       "      <td>0</td>\n",
       "      <td>6968</td>\n",
       "      <td>0</td>\n",
       "    </tr>\n",
       "    <tr>\n",
       "      <th>3</th>\n",
       "      <td>41354</td>\n",
       "      <td>0</td>\n",
       "      <td>1</td>\n",
       "      <td>1</td>\n",
       "      <td>1</td>\n",
       "      <td>4123</td>\n",
       "      <td>4</td>\n",
       "      <td>0</td>\n",
       "      <td>0</td>\n",
       "      <td>7034</td>\n",
       "      <td>0</td>\n",
       "    </tr>\n",
       "    <tr>\n",
       "      <th>4</th>\n",
       "      <td>14776</td>\n",
       "      <td>0</td>\n",
       "      <td>1</td>\n",
       "      <td>1</td>\n",
       "      <td>1</td>\n",
       "      <td>500</td>\n",
       "      <td>1</td>\n",
       "      <td>0</td>\n",
       "      <td>0</td>\n",
       "      <td>6952</td>\n",
       "      <td>0</td>\n",
       "    </tr>\n",
       "    <tr>\n",
       "      <th>5</th>\n",
       "      <td>97752</td>\n",
       "      <td>0</td>\n",
       "      <td>4</td>\n",
       "      <td>1</td>\n",
       "      <td>1</td>\n",
       "      <td>43300</td>\n",
       "      <td>26</td>\n",
       "      <td>2077</td>\n",
       "      <td>4</td>\n",
       "      <td>6935</td>\n",
       "      <td>1</td>\n",
       "    </tr>\n",
       "  </tbody>\n",
       "</table>\n",
       "</div>"
      ],
      "text/plain": [
       "    Balance  Qual_miles  cc1_miles  cc2_miles  cc3_miles  Bonus_miles  \\\n",
       "ID                                                                      \n",
       "1     28143           0          1          1          1          174   \n",
       "2     19244           0          1          1          1          215   \n",
       "3     41354           0          1          1          1         4123   \n",
       "4     14776           0          1          1          1          500   \n",
       "5     97752           0          4          1          1        43300   \n",
       "\n",
       "    Bonus_trans  Flight_miles_12mo  Flight_trans_12  Days_since_enroll  Award  \n",
       "ID                                                                             \n",
       "1             1                  0                0               7000      0  \n",
       "2             2                  0                0               6968      0  \n",
       "3             4                  0                0               7034      0  \n",
       "4             1                  0                0               6952      0  \n",
       "5            26               2077                4               6935      1  "
      ]
     },
     "execution_count": 26,
     "metadata": {},
     "output_type": "execute_result"
    }
   ],
   "source": [
    "# Importing dataset\n",
    "data = pd.read_excel('EastWestAirlines.xlsx',sheet_name='data')\n",
    "\n",
    "# Column rename.\n",
    "data.rename(columns={'ID#':'ID', 'Award?':'Award'}, inplace=True)\n",
    "\n",
    "#Set ID as Index Column\n",
    "data.set_index('ID',inplace=True)\n",
    "data.head()"
   ]
  },
  {
   "cell_type": "code",
   "execution_count": 18,
   "id": "215d0161",
   "metadata": {},
   "outputs": [
    {
     "data": {
      "text/plain": [
       "Index(['Balance', 'Qual_miles', 'cc1_miles', 'cc2_miles', 'cc3_miles',\n",
       "       'Bonus_miles', 'Bonus_trans', 'Flight_miles_12mo', 'Flight_trans_12',\n",
       "       'Days_since_enroll', 'Award'],\n",
       "      dtype='object')"
      ]
     },
     "execution_count": 18,
     "metadata": {},
     "output_type": "execute_result"
    }
   ],
   "source": [
    "data.columns"
   ]
  },
  {
   "cell_type": "code",
   "execution_count": 19,
   "id": "6e9d9336",
   "metadata": {},
   "outputs": [
    {
     "data": {
      "text/plain": [
       "Balance              int64\n",
       "Qual_miles           int64\n",
       "cc1_miles            int64\n",
       "cc2_miles            int64\n",
       "cc3_miles            int64\n",
       "Bonus_miles          int64\n",
       "Bonus_trans          int64\n",
       "Flight_miles_12mo    int64\n",
       "Flight_trans_12      int64\n",
       "Days_since_enroll    int64\n",
       "Award                int64\n",
       "dtype: object"
      ]
     },
     "execution_count": 19,
     "metadata": {},
     "output_type": "execute_result"
    }
   ],
   "source": [
    "data.dtypes"
   ]
  },
  {
   "cell_type": "code",
   "execution_count": 20,
   "id": "1bf58457",
   "metadata": {},
   "outputs": [
    {
     "name": "stdout",
     "output_type": "stream",
     "text": [
      "<class 'pandas.core.frame.DataFrame'>\n",
      "Int64Index: 3999 entries, 1 to 4021\n",
      "Data columns (total 11 columns):\n",
      " #   Column             Non-Null Count  Dtype\n",
      "---  ------             --------------  -----\n",
      " 0   Balance            3999 non-null   int64\n",
      " 1   Qual_miles         3999 non-null   int64\n",
      " 2   cc1_miles          3999 non-null   int64\n",
      " 3   cc2_miles          3999 non-null   int64\n",
      " 4   cc3_miles          3999 non-null   int64\n",
      " 5   Bonus_miles        3999 non-null   int64\n",
      " 6   Bonus_trans        3999 non-null   int64\n",
      " 7   Flight_miles_12mo  3999 non-null   int64\n",
      " 8   Flight_trans_12    3999 non-null   int64\n",
      " 9   Days_since_enroll  3999 non-null   int64\n",
      " 10  Award              3999 non-null   int64\n",
      "dtypes: int64(11)\n",
      "memory usage: 374.9 KB\n"
     ]
    }
   ],
   "source": [
    "data.info()"
   ]
  },
  {
   "cell_type": "code",
   "execution_count": 21,
   "id": "75f129a3",
   "metadata": {},
   "outputs": [
    {
     "data": {
      "text/plain": [
       "(3999, 11)"
      ]
     },
     "execution_count": 21,
     "metadata": {},
     "output_type": "execute_result"
    }
   ],
   "source": [
    "data.shape"
   ]
  },
  {
   "cell_type": "code",
   "execution_count": 23,
   "id": "181d0e84",
   "metadata": {},
   "outputs": [
    {
     "data": {
      "text/plain": [
       "0"
      ]
     },
     "execution_count": 23,
     "metadata": {},
     "output_type": "execute_result"
    }
   ],
   "source": [
    "data.isnull().sum().sum()"
   ]
  },
  {
   "cell_type": "code",
   "execution_count": 24,
   "id": "7bab1f25",
   "metadata": {},
   "outputs": [
    {
     "data": {
      "text/plain": [
       "1"
      ]
     },
     "execution_count": 24,
     "metadata": {},
     "output_type": "execute_result"
    }
   ],
   "source": [
    "data.duplicated().sum()"
   ]
  },
  {
   "cell_type": "code",
   "execution_count": 25,
   "id": "a4061f6d",
   "metadata": {},
   "outputs": [
    {
     "data": {
      "text/html": [
       "<div>\n",
       "<style scoped>\n",
       "    .dataframe tbody tr th:only-of-type {\n",
       "        vertical-align: middle;\n",
       "    }\n",
       "\n",
       "    .dataframe tbody tr th {\n",
       "        vertical-align: top;\n",
       "    }\n",
       "\n",
       "    .dataframe thead th {\n",
       "        text-align: right;\n",
       "    }\n",
       "</style>\n",
       "<table border=\"1\" class=\"dataframe\">\n",
       "  <thead>\n",
       "    <tr style=\"text-align: right;\">\n",
       "      <th></th>\n",
       "      <th>Balance</th>\n",
       "      <th>Qual_miles</th>\n",
       "      <th>cc1_miles</th>\n",
       "      <th>cc2_miles</th>\n",
       "      <th>cc3_miles</th>\n",
       "      <th>Bonus_miles</th>\n",
       "      <th>Bonus_trans</th>\n",
       "      <th>Flight_miles_12mo</th>\n",
       "      <th>Flight_trans_12</th>\n",
       "      <th>Days_since_enroll</th>\n",
       "      <th>Award</th>\n",
       "    </tr>\n",
       "    <tr>\n",
       "      <th>ID</th>\n",
       "      <th></th>\n",
       "      <th></th>\n",
       "      <th></th>\n",
       "      <th></th>\n",
       "      <th></th>\n",
       "      <th></th>\n",
       "      <th></th>\n",
       "      <th></th>\n",
       "      <th></th>\n",
       "      <th></th>\n",
       "      <th></th>\n",
       "    </tr>\n",
       "  </thead>\n",
       "  <tbody>\n",
       "    <tr>\n",
       "      <th>3393</th>\n",
       "      <td>1000</td>\n",
       "      <td>0</td>\n",
       "      <td>1</td>\n",
       "      <td>1</td>\n",
       "      <td>1</td>\n",
       "      <td>0</td>\n",
       "      <td>0</td>\n",
       "      <td>0</td>\n",
       "      <td>0</td>\n",
       "      <td>1597</td>\n",
       "      <td>0</td>\n",
       "    </tr>\n",
       "    <tr>\n",
       "      <th>3899</th>\n",
       "      <td>1000</td>\n",
       "      <td>0</td>\n",
       "      <td>1</td>\n",
       "      <td>1</td>\n",
       "      <td>1</td>\n",
       "      <td>0</td>\n",
       "      <td>0</td>\n",
       "      <td>0</td>\n",
       "      <td>0</td>\n",
       "      <td>1597</td>\n",
       "      <td>0</td>\n",
       "    </tr>\n",
       "  </tbody>\n",
       "</table>\n",
       "</div>"
      ],
      "text/plain": [
       "      Balance  Qual_miles  cc1_miles  cc2_miles  cc3_miles  Bonus_miles  \\\n",
       "ID                                                                        \n",
       "3393     1000           0          1          1          1            0   \n",
       "3899     1000           0          1          1          1            0   \n",
       "\n",
       "      Bonus_trans  Flight_miles_12mo  Flight_trans_12  Days_since_enroll  \\\n",
       "ID                                                                         \n",
       "3393            0                  0                0               1597   \n",
       "3899            0                  0                0               1597   \n",
       "\n",
       "      Award  \n",
       "ID           \n",
       "3393      0  \n",
       "3899      0  "
      ]
     },
     "execution_count": 25,
     "metadata": {},
     "output_type": "execute_result"
    }
   ],
   "source": [
    "data[data.duplicated(keep=False)]"
   ]
  },
  {
   "cell_type": "code",
   "execution_count": 27,
   "id": "294b0e79",
   "metadata": {},
   "outputs": [
    {
     "name": "stdout",
     "output_type": "stream",
     "text": [
      "Percentage of Customer doesn't have a Award: 62.97%\n",
      "Percentage of Customer does have a Award: 37.03%\n"
     ]
    }
   ],
   "source": [
    "countNotermdeposit = len(data[data.Award == 0])\n",
    "counthavetermdeposit = len(data[data.Award == 1])\n",
    "print(\"Percentage of Customer doesn't have a Award: {:.2f}%\".format((countNotermdeposit / (len(data.Award))*100)))\n",
    "print(\"Percentage of Customer does have a Award: {:.2f}%\".format((counthavetermdeposit / (len(data.Award))*100)))"
   ]
  },
  {
   "cell_type": "code",
   "execution_count": 28,
   "id": "2754fe34",
   "metadata": {},
   "outputs": [
    {
     "data": {
      "image/png": "[encoded data removed]",
      "text/plain": [
       "<Figure size 432x288 with 1 Axes>"
      ]
     },
     "metadata": {},
     "output_type": "display_data"
    }
   ],
   "source": [
    "sns.countplot(x='Award', data=data, \n",
    "              order=data['Award'].value_counts().index)\n",
    "plt.xticks(fontsize = 12)\n",
    "plt.title('Whether the client has a Award or not ');"
   ]
  },
  {
   "cell_type": "code",
   "execution_count": 30,
   "id": "3cd4cefe",
   "metadata": {},
   "outputs": [
    {
     "data": {
      "image/png": "[encoded data removed]",
      "text/plain": [
       "<Figure size 360x360 with 1 Axes>"
      ]
     },
     "metadata": {},
     "output_type": "display_data"
    }
   ],
   "source": [
    "# Balance : Number of miles eligible for award travel\n",
    "\n",
    "plt.figure(figsize = (5,5))\n",
    "Balance = data[['Award','Balance']].sort_values('Balance', ascending = False)\n",
    "ax = sns.barplot(x='Award', y='Balance', data= Balance, ci=False, palette='hls')\n",
    "ax.set(xlabel = 'Award', ylabel= 'Balance')\n",
    "plt.show()"
   ]
  },
  {
   "cell_type": "code",
   "execution_count": 31,
   "id": "4a1008c7",
   "metadata": {},
   "outputs": [
    {
     "data": {
      "image/png": "[encoded data removed]",
      "text/plain": [
       "<Figure size 1296x864 with 2 Axes>"
      ]
     },
     "metadata": {},
     "output_type": "display_data"
    }
   ],
   "source": [
    "# correlation heatmap\n",
    "\n",
    "f,ax = plt.subplots(figsize=(18,12))\n",
    "sns.heatmap(data.corr(), annot=True, linewidths =.5, fmt ='.1f',ax=ax)\n",
    "plt.show()"
   ]
  },
  {
   "cell_type": "markdown",
   "id": "e289b08d",
   "metadata": {},
   "source": [
    "Unique points in this correlation matrix:\n",
    "\n",
    "flight_trans_12 is positively correlated with flight_miles_12mo\n",
    "\n",
    "bonus_trans is positively correlated with cc1_miles\n",
    "\n",
    "bonus_trans is positively correlated with bonus_miles\n",
    "\n",
    "bonus_miles is positively correlated with cc1_miles\n",
    "\n",
    "In other words, the following are positively correlated\n",
    "\n",
    "Number of flight transactions in the past 12 months <-> Number of flight miles in the past 12 months\n",
    "\n",
    "Miles passengers earn with the freq. flyer credit card <-> Amount of non-flight transactions\n",
    "\n",
    "Number of non-flight bonus transactions <-> Miles passengers earn from non-flight bonus transactions\n",
    "\n",
    "Miles passengers earn from non-flight bonus transactions <-> Miles passengers earn with the freq. flyer credit card"
   ]
  },
  {
   "cell_type": "code",
   "execution_count": 32,
   "id": "781b30bb",
   "metadata": {},
   "outputs": [
    {
     "data": {
      "image/png": "[encoded data removed]",
      "text/plain": [
       "<Figure size 720x720 with 1 Axes>"
      ]
     },
     "metadata": {},
     "output_type": "display_data"
    }
   ],
   "source": [
    "# Plotting frequent flying bonuses vs. non-flight bonus transactions \n",
    "plt.figure(figsize = (10,10))\n",
    "sorted_data = data[['cc1_miles','Bonus_trans']].sort_values('Bonus_trans', ascending = False)\n",
    "ax = sns.barplot(x='cc1_miles', y='Bonus_trans', data= sorted_data)\n",
    "ax.set(xlabel = 'Miles earned with freq. flyer credit card', ylabel= 'Non-flight bonus transactions')\n",
    "plt.show()"
   ]
  },
  {
   "cell_type": "markdown",
   "id": "72d4eb48",
   "metadata": {},
   "source": [
    "## <font color='purple'><b>Hierarchical Clustering :"
   ]
  },
  {
   "cell_type": "markdown",
   "id": "dcf2e1b6",
   "metadata": {},
   "source": [
    "### <font color='green'><b>Feature Scaling :"
   ]
  },
  {
   "cell_type": "code",
   "execution_count": 34,
   "id": "76bcfc44",
   "metadata": {},
   "outputs": [
    {
     "data": {
      "text/html": [
       "<div>\n",
       "<style scoped>\n",
       "    .dataframe tbody tr th:only-of-type {\n",
       "        vertical-align: middle;\n",
       "    }\n",
       "\n",
       "    .dataframe tbody tr th {\n",
       "        vertical-align: top;\n",
       "    }\n",
       "\n",
       "    .dataframe thead th {\n",
       "        text-align: right;\n",
       "    }\n",
       "</style>\n",
       "<table border=\"1\" class=\"dataframe\">\n",
       "  <thead>\n",
       "    <tr style=\"text-align: right;\">\n",
       "      <th></th>\n",
       "      <th>Balance</th>\n",
       "      <th>Qual_miles</th>\n",
       "      <th>cc1_miles</th>\n",
       "      <th>cc2_miles</th>\n",
       "      <th>cc3_miles</th>\n",
       "      <th>Bonus_miles</th>\n",
       "      <th>Bonus_trans</th>\n",
       "      <th>Flight_miles_12mo</th>\n",
       "      <th>Flight_trans_12</th>\n",
       "      <th>Days_since_enroll</th>\n",
       "      <th>Award</th>\n",
       "    </tr>\n",
       "  </thead>\n",
       "  <tbody>\n",
       "    <tr>\n",
       "      <th>0</th>\n",
       "      <td>0.016508</td>\n",
       "      <td>0.0</td>\n",
       "      <td>0.00</td>\n",
       "      <td>0.0</td>\n",
       "      <td>0.0</td>\n",
       "      <td>0.000660</td>\n",
       "      <td>0.011628</td>\n",
       "      <td>0.000000</td>\n",
       "      <td>0.000000</td>\n",
       "      <td>0.843742</td>\n",
       "      <td>0.0</td>\n",
       "    </tr>\n",
       "    <tr>\n",
       "      <th>1</th>\n",
       "      <td>0.011288</td>\n",
       "      <td>0.0</td>\n",
       "      <td>0.00</td>\n",
       "      <td>0.0</td>\n",
       "      <td>0.0</td>\n",
       "      <td>0.000815</td>\n",
       "      <td>0.023256</td>\n",
       "      <td>0.000000</td>\n",
       "      <td>0.000000</td>\n",
       "      <td>0.839884</td>\n",
       "      <td>0.0</td>\n",
       "    </tr>\n",
       "    <tr>\n",
       "      <th>2</th>\n",
       "      <td>0.024257</td>\n",
       "      <td>0.0</td>\n",
       "      <td>0.00</td>\n",
       "      <td>0.0</td>\n",
       "      <td>0.0</td>\n",
       "      <td>0.015636</td>\n",
       "      <td>0.046512</td>\n",
       "      <td>0.000000</td>\n",
       "      <td>0.000000</td>\n",
       "      <td>0.847842</td>\n",
       "      <td>0.0</td>\n",
       "    </tr>\n",
       "    <tr>\n",
       "      <th>3</th>\n",
       "      <td>0.008667</td>\n",
       "      <td>0.0</td>\n",
       "      <td>0.00</td>\n",
       "      <td>0.0</td>\n",
       "      <td>0.0</td>\n",
       "      <td>0.001896</td>\n",
       "      <td>0.011628</td>\n",
       "      <td>0.000000</td>\n",
       "      <td>0.000000</td>\n",
       "      <td>0.837955</td>\n",
       "      <td>0.0</td>\n",
       "    </tr>\n",
       "    <tr>\n",
       "      <th>4</th>\n",
       "      <td>0.057338</td>\n",
       "      <td>0.0</td>\n",
       "      <td>0.75</td>\n",
       "      <td>0.0</td>\n",
       "      <td>0.0</td>\n",
       "      <td>0.164211</td>\n",
       "      <td>0.302326</td>\n",
       "      <td>0.067398</td>\n",
       "      <td>0.075472</td>\n",
       "      <td>0.835905</td>\n",
       "      <td>1.0</td>\n",
       "    </tr>\n",
       "  </tbody>\n",
       "</table>\n",
       "</div>"
      ],
      "text/plain": [
       "    Balance  Qual_miles  cc1_miles  cc2_miles  cc3_miles  Bonus_miles  \\\n",
       "0  0.016508         0.0       0.00        0.0        0.0     0.000660   \n",
       "1  0.011288         0.0       0.00        0.0        0.0     0.000815   \n",
       "2  0.024257         0.0       0.00        0.0        0.0     0.015636   \n",
       "3  0.008667         0.0       0.00        0.0        0.0     0.001896   \n",
       "4  0.057338         0.0       0.75        0.0        0.0     0.164211   \n",
       "\n",
       "   Bonus_trans  Flight_miles_12mo  Flight_trans_12  Days_since_enroll  Award  \n",
       "0     0.011628           0.000000         0.000000           0.843742    0.0  \n",
       "1     0.023256           0.000000         0.000000           0.839884    0.0  \n",
       "2     0.046512           0.000000         0.000000           0.847842    0.0  \n",
       "3     0.011628           0.000000         0.000000           0.837955    0.0  \n",
       "4     0.302326           0.067398         0.075472           0.835905    1.0  "
      ]
     },
     "execution_count": 34,
     "metadata": {},
     "output_type": "execute_result"
    }
   ],
   "source": [
    "from sklearn.preprocessing import MinMaxScaler\n",
    "scaler = MinMaxScaler()\n",
    "df_minmax = scaler.fit_transform(data)\n",
    "df_minmax = pd.DataFrame(df_minmax, columns=data.columns)\n",
    "df_minmax.head()"
   ]
  },
  {
   "cell_type": "code",
   "execution_count": 35,
   "id": "ed2248ef",
   "metadata": {},
   "outputs": [
    {
     "data": {
      "text/html": [
       "<div>\n",
       "<style scoped>\n",
       "    .dataframe tbody tr th:only-of-type {\n",
       "        vertical-align: middle;\n",
       "    }\n",
       "\n",
       "    .dataframe tbody tr th {\n",
       "        vertical-align: top;\n",
       "    }\n",
       "\n",
       "    .dataframe thead th {\n",
       "        text-align: right;\n",
       "    }\n",
       "</style>\n",
       "<table border=\"1\" class=\"dataframe\">\n",
       "  <thead>\n",
       "    <tr style=\"text-align: right;\">\n",
       "      <th></th>\n",
       "      <th>Balance</th>\n",
       "      <th>Qual_miles</th>\n",
       "      <th>cc1_miles</th>\n",
       "      <th>cc2_miles</th>\n",
       "      <th>cc3_miles</th>\n",
       "      <th>Bonus_miles</th>\n",
       "      <th>Bonus_trans</th>\n",
       "      <th>Flight_miles_12mo</th>\n",
       "      <th>Flight_trans_12</th>\n",
       "      <th>Days_since_enroll</th>\n",
       "      <th>Award</th>\n",
       "    </tr>\n",
       "  </thead>\n",
       "  <tbody>\n",
       "    <tr>\n",
       "      <th>count</th>\n",
       "      <td>3999.000</td>\n",
       "      <td>3999.000</td>\n",
       "      <td>3999.000</td>\n",
       "      <td>3999.000</td>\n",
       "      <td>3999.000</td>\n",
       "      <td>3999.000</td>\n",
       "      <td>3999.000</td>\n",
       "      <td>3999.000</td>\n",
       "      <td>3999.000</td>\n",
       "      <td>3999.000</td>\n",
       "      <td>3999.000</td>\n",
       "    </tr>\n",
       "    <tr>\n",
       "      <th>mean</th>\n",
       "      <td>0.043</td>\n",
       "      <td>0.013</td>\n",
       "      <td>0.265</td>\n",
       "      <td>0.007</td>\n",
       "      <td>0.003</td>\n",
       "      <td>0.065</td>\n",
       "      <td>0.135</td>\n",
       "      <td>0.015</td>\n",
       "      <td>0.026</td>\n",
       "      <td>0.496</td>\n",
       "      <td>0.370</td>\n",
       "    </tr>\n",
       "    <tr>\n",
       "      <th>std</th>\n",
       "      <td>0.059</td>\n",
       "      <td>0.069</td>\n",
       "      <td>0.344</td>\n",
       "      <td>0.074</td>\n",
       "      <td>0.049</td>\n",
       "      <td>0.092</td>\n",
       "      <td>0.112</td>\n",
       "      <td>0.045</td>\n",
       "      <td>0.072</td>\n",
       "      <td>0.249</td>\n",
       "      <td>0.483</td>\n",
       "    </tr>\n",
       "    <tr>\n",
       "      <th>min</th>\n",
       "      <td>0.000</td>\n",
       "      <td>0.000</td>\n",
       "      <td>0.000</td>\n",
       "      <td>0.000</td>\n",
       "      <td>0.000</td>\n",
       "      <td>0.000</td>\n",
       "      <td>0.000</td>\n",
       "      <td>0.000</td>\n",
       "      <td>0.000</td>\n",
       "      <td>0.000</td>\n",
       "      <td>0.000</td>\n",
       "    </tr>\n",
       "    <tr>\n",
       "      <th>25%</th>\n",
       "      <td>0.011</td>\n",
       "      <td>0.000</td>\n",
       "      <td>0.000</td>\n",
       "      <td>0.000</td>\n",
       "      <td>0.000</td>\n",
       "      <td>0.005</td>\n",
       "      <td>0.035</td>\n",
       "      <td>0.000</td>\n",
       "      <td>0.000</td>\n",
       "      <td>0.281</td>\n",
       "      <td>0.000</td>\n",
       "    </tr>\n",
       "    <tr>\n",
       "      <th>50%</th>\n",
       "      <td>0.025</td>\n",
       "      <td>0.000</td>\n",
       "      <td>0.000</td>\n",
       "      <td>0.000</td>\n",
       "      <td>0.000</td>\n",
       "      <td>0.027</td>\n",
       "      <td>0.140</td>\n",
       "      <td>0.000</td>\n",
       "      <td>0.000</td>\n",
       "      <td>0.494</td>\n",
       "      <td>0.000</td>\n",
       "    </tr>\n",
       "    <tr>\n",
       "      <th>75%</th>\n",
       "      <td>0.054</td>\n",
       "      <td>0.000</td>\n",
       "      <td>0.500</td>\n",
       "      <td>0.000</td>\n",
       "      <td>0.000</td>\n",
       "      <td>0.090</td>\n",
       "      <td>0.198</td>\n",
       "      <td>0.010</td>\n",
       "      <td>0.019</td>\n",
       "      <td>0.698</td>\n",
       "      <td>1.000</td>\n",
       "    </tr>\n",
       "    <tr>\n",
       "      <th>max</th>\n",
       "      <td>1.000</td>\n",
       "      <td>1.000</td>\n",
       "      <td>1.000</td>\n",
       "      <td>1.000</td>\n",
       "      <td>1.000</td>\n",
       "      <td>1.000</td>\n",
       "      <td>1.000</td>\n",
       "      <td>1.000</td>\n",
       "      <td>1.000</td>\n",
       "      <td>1.000</td>\n",
       "      <td>1.000</td>\n",
       "    </tr>\n",
       "  </tbody>\n",
       "</table>\n",
       "</div>"
      ],
      "text/plain": [
       "        Balance  Qual_miles  cc1_miles  cc2_miles  cc3_miles  Bonus_miles  \\\n",
       "count  3999.000    3999.000   3999.000   3999.000   3999.000     3999.000   \n",
       "mean      0.043       0.013      0.265      0.007      0.003        0.065   \n",
       "std       0.059       0.069      0.344      0.074      0.049        0.092   \n",
       "min       0.000       0.000      0.000      0.000      0.000        0.000   \n",
       "25%       0.011       0.000      0.000      0.000      0.000        0.005   \n",
       "50%       0.025       0.000      0.000      0.000      0.000        0.027   \n",
       "75%       0.054       0.000      0.500      0.000      0.000        0.090   \n",
       "max       1.000       1.000      1.000      1.000      1.000        1.000   \n",
       "\n",
       "       Bonus_trans  Flight_miles_12mo  Flight_trans_12  Days_since_enroll  \\\n",
       "count     3999.000           3999.000         3999.000           3999.000   \n",
       "mean         0.135              0.015            0.026              0.496   \n",
       "std          0.112              0.045            0.072              0.249   \n",
       "min          0.000              0.000            0.000              0.000   \n",
       "25%          0.035              0.000            0.000              0.281   \n",
       "50%          0.140              0.000            0.000              0.494   \n",
       "75%          0.198              0.010            0.019              0.698   \n",
       "max          1.000              1.000            1.000              1.000   \n",
       "\n",
       "          Award  \n",
       "count  3999.000  \n",
       "mean      0.370  \n",
       "std       0.483  \n",
       "min       0.000  \n",
       "25%       0.000  \n",
       "50%       0.000  \n",
       "75%       1.000  \n",
       "max       1.000  "
      ]
     },
     "execution_count": 35,
     "metadata": {},
     "output_type": "execute_result"
    }
   ],
   "source": [
    "df_minmax.describe().round(3)"
   ]
  },
  {
   "cell_type": "markdown",
   "id": "f1bf68be",
   "metadata": {},
   "source": [
    "### <font color='cyan'><b>To find the number of clusters :"
   ]
  },
  {
   "cell_type": "code",
   "execution_count": 36,
   "id": "bc2beeee",
   "metadata": {},
   "outputs": [
    {
     "data": {
      "image/png": "[encoded data removed]",
      "text/plain": [
       "<Figure size 1080x720 with 1 Axes>"
      ]
     },
     "metadata": {},
     "output_type": "display_data"
    }
   ],
   "source": [
    "from scipy.cluster.hierarchy import dendrogram, linkage\n",
    "link = linkage(df_minmax, method='average')\n",
    "plt.figure(figsize=(15, 10))\n",
    "dendrogram(link, labels=data['Award'].values)\n",
    "plt.title('Dendrogram Visualization');"
   ]
  },
  {
   "cell_type": "markdown",
   "id": "c50f471b",
   "metadata": {},
   "source": [
    "<font color='peach'><b>There seems to be two clusters so let n_clusters = 2 ."
   ]
  },
  {
   "cell_type": "markdown",
   "id": "269a0658",
   "metadata": {},
   "source": [
    "### <font color='orange'><b>Agglomerative Clustering :"
   ]
  },
  {
   "cell_type": "code",
   "execution_count": 37,
   "id": "6c45a981",
   "metadata": {},
   "outputs": [],
   "source": [
    "from sklearn.cluster import AgglomerativeClustering\n",
    "agglo = AgglomerativeClustering(n_clusters=2, affinity='euclidean', linkage='average')"
   ]
  },
  {
   "cell_type": "code",
   "execution_count": 39,
   "id": "94e5823f",
   "metadata": {},
   "outputs": [
    {
     "data": {
      "text/plain": [
       "array([0, 0, 0, ..., 0, 0, 0], dtype=int64)"
      ]
     },
     "execution_count": 39,
     "metadata": {},
     "output_type": "execute_result"
    }
   ],
   "source": [
    "# get the cluster labels using fit_predict method of the agglo object\n",
    "labels = agglo.fit_predict(df_minmax)\n",
    "labels"
   ]
  },
  {
   "cell_type": "code",
   "execution_count": 40,
   "id": "2ac54d4f",
   "metadata": {},
   "outputs": [
    {
     "data": {
      "text/html": [
       "<div>\n",
       "<style scoped>\n",
       "    .dataframe tbody tr th:only-of-type {\n",
       "        vertical-align: middle;\n",
       "    }\n",
       "\n",
       "    .dataframe tbody tr th {\n",
       "        vertical-align: top;\n",
       "    }\n",
       "\n",
       "    .dataframe thead th {\n",
       "        text-align: right;\n",
       "    }\n",
       "</style>\n",
       "<table border=\"1\" class=\"dataframe\">\n",
       "  <thead>\n",
       "    <tr style=\"text-align: right;\">\n",
       "      <th></th>\n",
       "      <th>Balance</th>\n",
       "      <th>Qual_miles</th>\n",
       "      <th>cc1_miles</th>\n",
       "      <th>cc2_miles</th>\n",
       "      <th>cc3_miles</th>\n",
       "      <th>Bonus_miles</th>\n",
       "      <th>Bonus_trans</th>\n",
       "      <th>Flight_miles_12mo</th>\n",
       "      <th>Flight_trans_12</th>\n",
       "      <th>Days_since_enroll</th>\n",
       "      <th>Award</th>\n",
       "      <th>cluster_labels</th>\n",
       "    </tr>\n",
       "    <tr>\n",
       "      <th>ID</th>\n",
       "      <th></th>\n",
       "      <th></th>\n",
       "      <th></th>\n",
       "      <th></th>\n",
       "      <th></th>\n",
       "      <th></th>\n",
       "      <th></th>\n",
       "      <th></th>\n",
       "      <th></th>\n",
       "      <th></th>\n",
       "      <th></th>\n",
       "      <th></th>\n",
       "    </tr>\n",
       "  </thead>\n",
       "  <tbody>\n",
       "    <tr>\n",
       "      <th>1</th>\n",
       "      <td>28143</td>\n",
       "      <td>0</td>\n",
       "      <td>1</td>\n",
       "      <td>1</td>\n",
       "      <td>1</td>\n",
       "      <td>174</td>\n",
       "      <td>1</td>\n",
       "      <td>0</td>\n",
       "      <td>0</td>\n",
       "      <td>7000</td>\n",
       "      <td>0</td>\n",
       "      <td>0</td>\n",
       "    </tr>\n",
       "    <tr>\n",
       "      <th>2</th>\n",
       "      <td>19244</td>\n",
       "      <td>0</td>\n",
       "      <td>1</td>\n",
       "      <td>1</td>\n",
       "      <td>1</td>\n",
       "      <td>215</td>\n",
       "      <td>2</td>\n",
       "      <td>0</td>\n",
       "      <td>0</td>\n",
       "      <td>6968</td>\n",
       "      <td>0</td>\n",
       "      <td>0</td>\n",
       "    </tr>\n",
       "    <tr>\n",
       "      <th>3</th>\n",
       "      <td>41354</td>\n",
       "      <td>0</td>\n",
       "      <td>1</td>\n",
       "      <td>1</td>\n",
       "      <td>1</td>\n",
       "      <td>4123</td>\n",
       "      <td>4</td>\n",
       "      <td>0</td>\n",
       "      <td>0</td>\n",
       "      <td>7034</td>\n",
       "      <td>0</td>\n",
       "      <td>0</td>\n",
       "    </tr>\n",
       "    <tr>\n",
       "      <th>4</th>\n",
       "      <td>14776</td>\n",
       "      <td>0</td>\n",
       "      <td>1</td>\n",
       "      <td>1</td>\n",
       "      <td>1</td>\n",
       "      <td>500</td>\n",
       "      <td>1</td>\n",
       "      <td>0</td>\n",
       "      <td>0</td>\n",
       "      <td>6952</td>\n",
       "      <td>0</td>\n",
       "      <td>0</td>\n",
       "    </tr>\n",
       "    <tr>\n",
       "      <th>5</th>\n",
       "      <td>97752</td>\n",
       "      <td>0</td>\n",
       "      <td>4</td>\n",
       "      <td>1</td>\n",
       "      <td>1</td>\n",
       "      <td>43300</td>\n",
       "      <td>26</td>\n",
       "      <td>2077</td>\n",
       "      <td>4</td>\n",
       "      <td>6935</td>\n",
       "      <td>1</td>\n",
       "      <td>0</td>\n",
       "    </tr>\n",
       "  </tbody>\n",
       "</table>\n",
       "</div>"
      ],
      "text/plain": [
       "    Balance  Qual_miles  cc1_miles  cc2_miles  cc3_miles  Bonus_miles  \\\n",
       "ID                                                                      \n",
       "1     28143           0          1          1          1          174   \n",
       "2     19244           0          1          1          1          215   \n",
       "3     41354           0          1          1          1         4123   \n",
       "4     14776           0          1          1          1          500   \n",
       "5     97752           0          4          1          1        43300   \n",
       "\n",
       "    Bonus_trans  Flight_miles_12mo  Flight_trans_12  Days_since_enroll  Award  \\\n",
       "ID                                                                              \n",
       "1             1                  0                0               7000      0   \n",
       "2             2                  0                0               6968      0   \n",
       "3             4                  0                0               7034      0   \n",
       "4             1                  0                0               6952      0   \n",
       "5            26               2077                4               6935      1   \n",
       "\n",
       "    cluster_labels  \n",
       "ID                  \n",
       "1                0  \n",
       "2                0  \n",
       "3                0  \n",
       "4                0  \n",
       "5                0  "
      ]
     },
     "execution_count": 40,
     "metadata": {},
     "output_type": "execute_result"
    }
   ],
   "source": [
    "# add cluster labels to the dataset\n",
    "df_h = data.copy()\n",
    "df_h['cluster_labels'] = labels\n",
    "df_h.head()"
   ]
  },
  {
   "cell_type": "code",
   "execution_count": 60,
   "id": "456a4376",
   "metadata": {},
   "outputs": [
    {
     "data": {
      "text/html": [
       "<div>\n",
       "<style scoped>\n",
       "    .dataframe tbody tr th:only-of-type {\n",
       "        vertical-align: middle;\n",
       "    }\n",
       "\n",
       "    .dataframe tbody tr th {\n",
       "        vertical-align: top;\n",
       "    }\n",
       "\n",
       "    .dataframe thead th {\n",
       "        text-align: right;\n",
       "    }\n",
       "</style>\n",
       "<table border=\"1\" class=\"dataframe\">\n",
       "  <thead>\n",
       "    <tr style=\"text-align: right;\">\n",
       "      <th></th>\n",
       "      <th>Balance</th>\n",
       "      <th>Qual_miles</th>\n",
       "      <th>cc1_miles</th>\n",
       "      <th>cc2_miles</th>\n",
       "      <th>cc3_miles</th>\n",
       "      <th>Bonus_miles</th>\n",
       "      <th>Bonus_trans</th>\n",
       "      <th>Flight_miles_12mo</th>\n",
       "      <th>Flight_trans_12</th>\n",
       "      <th>Days_since_enroll</th>\n",
       "      <th>Award</th>\n",
       "    </tr>\n",
       "    <tr>\n",
       "      <th>cluster_labels</th>\n",
       "      <th></th>\n",
       "      <th></th>\n",
       "      <th></th>\n",
       "      <th></th>\n",
       "      <th></th>\n",
       "      <th></th>\n",
       "      <th></th>\n",
       "      <th></th>\n",
       "      <th></th>\n",
       "      <th></th>\n",
       "      <th></th>\n",
       "    </tr>\n",
       "  </thead>\n",
       "  <tbody>\n",
       "    <tr>\n",
       "      <th>0</th>\n",
       "      <td>73542.86</td>\n",
       "      <td>143.91</td>\n",
       "      <td>2.06</td>\n",
       "      <td>1.01</td>\n",
       "      <td>1.01</td>\n",
       "      <td>17096.30</td>\n",
       "      <td>11.54</td>\n",
       "      <td>440.53</td>\n",
       "      <td>1.33</td>\n",
       "      <td>4120.48</td>\n",
       "      <td>0.37</td>\n",
       "    </tr>\n",
       "    <tr>\n",
       "      <th>1</th>\n",
       "      <td>131999.50</td>\n",
       "      <td>347.00</td>\n",
       "      <td>2.50</td>\n",
       "      <td>1.00</td>\n",
       "      <td>1.00</td>\n",
       "      <td>65634.25</td>\n",
       "      <td>69.25</td>\n",
       "      <td>19960.00</td>\n",
       "      <td>49.25</td>\n",
       "      <td>2200.25</td>\n",
       "      <td>1.00</td>\n",
       "    </tr>\n",
       "  </tbody>\n",
       "</table>\n",
       "</div>"
      ],
      "text/plain": [
       "                  Balance  Qual_miles  cc1_miles  cc2_miles  cc3_miles  \\\n",
       "cluster_labels                                                           \n",
       "0                73542.86      143.91       2.06       1.01       1.01   \n",
       "1               131999.50      347.00       2.50       1.00       1.00   \n",
       "\n",
       "                Bonus_miles  Bonus_trans  Flight_miles_12mo  Flight_trans_12  \\\n",
       "cluster_labels                                                                 \n",
       "0                  17096.30        11.54             440.53             1.33   \n",
       "1                  65634.25        69.25           19960.00            49.25   \n",
       "\n",
       "                Days_since_enroll  Award  \n",
       "cluster_labels                            \n",
       "0                         4120.48   0.37  \n",
       "1                         2200.25   1.00  "
      ]
     },
     "execution_count": 60,
     "metadata": {},
     "output_type": "execute_result"
    }
   ],
   "source": [
    "df_h.groupby('cluster_labels').mean().round(2)"
   ]
  },
  {
   "cell_type": "markdown",
   "id": "b506e662",
   "metadata": {},
   "source": [
    "<font color='peach'><b>cluster 1 defines the group of fliers that earn the most out of the card and are frequent fliers.\n",
    "<font color='peach'><b>cluster 0 defines the group of fliers that earn the least and are the least frequent fliers."
   ]
  },
  {
   "cell_type": "markdown",
   "id": "5d1403a7",
   "metadata": {},
   "source": [
    "## <font color='purple'><b>K-Means Clustering :"
   ]
  },
  {
   "cell_type": "markdown",
   "id": "950c4710",
   "metadata": {},
   "source": [
    "### <font color='green'><b>Feature Scaling :"
   ]
  },
  {
   "cell_type": "code",
   "execution_count": 48,
   "id": "4f00af5b",
   "metadata": {},
   "outputs": [
    {
     "data": {
      "text/html": [
       "<div>\n",
       "<style scoped>\n",
       "    .dataframe tbody tr th:only-of-type {\n",
       "        vertical-align: middle;\n",
       "    }\n",
       "\n",
       "    .dataframe tbody tr th {\n",
       "        vertical-align: top;\n",
       "    }\n",
       "\n",
       "    .dataframe thead th {\n",
       "        text-align: right;\n",
       "    }\n",
       "</style>\n",
       "<table border=\"1\" class=\"dataframe\">\n",
       "  <thead>\n",
       "    <tr style=\"text-align: right;\">\n",
       "      <th></th>\n",
       "      <th>Balance</th>\n",
       "      <th>Qual_miles</th>\n",
       "      <th>cc1_miles</th>\n",
       "      <th>cc2_miles</th>\n",
       "      <th>cc3_miles</th>\n",
       "      <th>Bonus_miles</th>\n",
       "      <th>Bonus_trans</th>\n",
       "      <th>Flight_miles_12mo</th>\n",
       "      <th>Flight_trans_12</th>\n",
       "      <th>Days_since_enroll</th>\n",
       "      <th>Award</th>\n",
       "    </tr>\n",
       "  </thead>\n",
       "  <tbody>\n",
       "    <tr>\n",
       "      <th>0</th>\n",
       "      <td>-0.451141</td>\n",
       "      <td>-0.186299</td>\n",
       "      <td>-0.769578</td>\n",
       "      <td>-0.098242</td>\n",
       "      <td>-0.062767</td>\n",
       "      <td>-0.702786</td>\n",
       "      <td>-1.104065</td>\n",
       "      <td>-0.328603</td>\n",
       "      <td>-0.362168</td>\n",
       "      <td>1.395454</td>\n",
       "      <td>-0.766919</td>\n",
       "    </tr>\n",
       "    <tr>\n",
       "      <th>1</th>\n",
       "      <td>-0.539457</td>\n",
       "      <td>-0.186299</td>\n",
       "      <td>-0.769578</td>\n",
       "      <td>-0.098242</td>\n",
       "      <td>-0.062767</td>\n",
       "      <td>-0.701088</td>\n",
       "      <td>-0.999926</td>\n",
       "      <td>-0.328603</td>\n",
       "      <td>-0.362168</td>\n",
       "      <td>1.379957</td>\n",
       "      <td>-0.766919</td>\n",
       "    </tr>\n",
       "    <tr>\n",
       "      <th>2</th>\n",
       "      <td>-0.320031</td>\n",
       "      <td>-0.186299</td>\n",
       "      <td>-0.769578</td>\n",
       "      <td>-0.098242</td>\n",
       "      <td>-0.062767</td>\n",
       "      <td>-0.539253</td>\n",
       "      <td>-0.791649</td>\n",
       "      <td>-0.328603</td>\n",
       "      <td>-0.362168</td>\n",
       "      <td>1.411920</td>\n",
       "      <td>-0.766919</td>\n",
       "    </tr>\n",
       "    <tr>\n",
       "      <th>3</th>\n",
       "      <td>-0.583799</td>\n",
       "      <td>-0.186299</td>\n",
       "      <td>-0.769578</td>\n",
       "      <td>-0.098242</td>\n",
       "      <td>-0.062767</td>\n",
       "      <td>-0.689286</td>\n",
       "      <td>-1.104065</td>\n",
       "      <td>-0.328603</td>\n",
       "      <td>-0.362168</td>\n",
       "      <td>1.372208</td>\n",
       "      <td>-0.766919</td>\n",
       "    </tr>\n",
       "    <tr>\n",
       "      <th>4</th>\n",
       "      <td>0.239678</td>\n",
       "      <td>-0.186299</td>\n",
       "      <td>1.409471</td>\n",
       "      <td>-0.098242</td>\n",
       "      <td>-0.062767</td>\n",
       "      <td>1.083121</td>\n",
       "      <td>1.499394</td>\n",
       "      <td>1.154932</td>\n",
       "      <td>0.692490</td>\n",
       "      <td>1.363975</td>\n",
       "      <td>1.303918</td>\n",
       "    </tr>\n",
       "  </tbody>\n",
       "</table>\n",
       "</div>"
      ],
      "text/plain": [
       "    Balance  Qual_miles  cc1_miles  cc2_miles  cc3_miles  Bonus_miles  \\\n",
       "0 -0.451141   -0.186299  -0.769578  -0.098242  -0.062767    -0.702786   \n",
       "1 -0.539457   -0.186299  -0.769578  -0.098242  -0.062767    -0.701088   \n",
       "2 -0.320031   -0.186299  -0.769578  -0.098242  -0.062767    -0.539253   \n",
       "3 -0.583799   -0.186299  -0.769578  -0.098242  -0.062767    -0.689286   \n",
       "4  0.239678   -0.186299   1.409471  -0.098242  -0.062767     1.083121   \n",
       "\n",
       "   Bonus_trans  Flight_miles_12mo  Flight_trans_12  Days_since_enroll  \\\n",
       "0    -1.104065          -0.328603        -0.362168           1.395454   \n",
       "1    -0.999926          -0.328603        -0.362168           1.379957   \n",
       "2    -0.791649          -0.328603        -0.362168           1.411920   \n",
       "3    -1.104065          -0.328603        -0.362168           1.372208   \n",
       "4     1.499394           1.154932         0.692490           1.363975   \n",
       "\n",
       "      Award  \n",
       "0 -0.766919  \n",
       "1 -0.766919  \n",
       "2 -0.766919  \n",
       "3 -0.766919  \n",
       "4  1.303918  "
      ]
     },
     "execution_count": 48,
     "metadata": {},
     "output_type": "execute_result"
    }
   ],
   "source": [
    "from sklearn.preprocessing import StandardScaler\n",
    "scaler = StandardScaler()\n",
    "df_std = scaler.fit_transform(data)\n",
    "df_std = pd.DataFrame(df_std, columns=data.columns)\n",
    "df_std.head()"
   ]
  },
  {
   "cell_type": "markdown",
   "id": "68912e2c",
   "metadata": {},
   "source": [
    "### <font color='cyan'><b>Finding optimum number of clusters using Elbow method :"
   ]
  },
  {
   "cell_type": "code",
   "execution_count": 49,
   "id": "85f09c52",
   "metadata": {},
   "outputs": [],
   "source": [
    "from sklearn.cluster import KMeans\n",
    "wss = []\n",
    "for i in range(1,11):\n",
    "    kmeans = KMeans(n_clusters=i, random_state=42)\n",
    "    kmeans.fit(df_std)\n",
    "    wss.append(kmeans.inertia_)"
   ]
  },
  {
   "cell_type": "code",
   "execution_count": 50,
   "id": "e14c0ff5",
   "metadata": {},
   "outputs": [
    {
     "data": {
      "text/plain": [
       "[43988.999999999985,\n",
       " 35409.516629861304,\n",
       " 30899.21640879058,\n",
       " 27162.166106124132,\n",
       " 23707.163884815593,\n",
       " 21089.75687002387,\n",
       " 19166.38904378935,\n",
       " 17316.725861419516,\n",
       " 15960.406001471114,\n",
       " 14732.22988234744]"
      ]
     },
     "execution_count": 50,
     "metadata": {},
     "output_type": "execute_result"
    }
   ],
   "source": [
    "wss"
   ]
  },
  {
   "cell_type": "markdown",
   "id": "00a3f42a",
   "metadata": {},
   "source": [
    "### <font color='lightgreen'><b>Elbow curve :"
   ]
  },
  {
   "cell_type": "code",
   "execution_count": 51,
   "id": "cbe46074",
   "metadata": {},
   "outputs": [
    {
     "data": {
      "image/png": "[encoded data removed]",
      "text/plain": [
       "<Figure size 432x288 with 1 Axes>"
      ]
     },
     "metadata": {},
     "output_type": "display_data"
    }
   ],
   "source": [
    "plt.plot(range(1,11), wss, marker='o')\n",
    "plt.title('Elbow Curve')\n",
    "plt.xlabel('Number of Clusters')\n",
    "plt.ylabel('WSS');"
   ]
  },
  {
   "cell_type": "markdown",
   "id": "654386b2",
   "metadata": {},
   "source": [
    "### <font color='hotpink'><b>Silhouette Score :"
   ]
  },
  {
   "cell_type": "code",
   "execution_count": 52,
   "id": "24744dac",
   "metadata": {},
   "outputs": [],
   "source": [
    "ss = []\n",
    "from sklearn.metrics import silhouette_score\n",
    "for i in range(2,11):\n",
    "    km = KMeans(n_clusters=i, random_state=42)\n",
    "    km.fit(df_std)\n",
    "    ss.append(silhouette_score(df_std, km.labels_))"
   ]
  },
  {
   "cell_type": "code",
   "execution_count": 53,
   "id": "c9ef0d57",
   "metadata": {},
   "outputs": [
    {
     "data": {
      "image/png": "[encoded data removed]",
      "text/plain": [
       "<Figure size 432x288 with 1 Axes>"
      ]
     },
     "metadata": {},
     "output_type": "display_data"
    }
   ],
   "source": [
    "plt.plot(range(2,11), ss, marker='o');"
   ]
  },
  {
   "cell_type": "markdown",
   "id": "cb57c562",
   "metadata": {},
   "source": [
    "<font color='peach'><b>From both the graphs the number of clusters can be taken as 2."
   ]
  },
  {
   "cell_type": "markdown",
   "id": "63f2253b",
   "metadata": {},
   "source": [
    "### <font color='cyan'><b>K-Means Clustering with k=2 :"
   ]
  },
  {
   "cell_type": "code",
   "execution_count": 54,
   "id": "c8a845df",
   "metadata": {},
   "outputs": [
    {
     "data": {
      "text/html": [
       "<style>#sk-container-id-1 {color: black;background-color: white;}#sk-container-id-1 pre{padding: 0;}#sk-container-id-1 div.sk-toggleable {background-color: white;}#sk-container-id-1 label.sk-toggleable__label {cursor: pointer;display: block;width: 100%;margin-bottom: 0;padding: 0.3em;box-sizing: border-box;text-align: center;}#sk-container-id-1 label.sk-toggleable__label-arrow:before {content: \"▸\";float: left;margin-right: 0.25em;color: #696969;}#sk-container-id-1 label.sk-toggleable__label-arrow:hover:before {color: black;}#sk-container-id-1 div.sk-estimator:hover label.sk-toggleable__label-arrow:before {color: black;}#sk-container-id-1 div.sk-toggleable__content {max-height: 0;max-width: 0;overflow: hidden;text-align: left;background-color: #f0f8ff;}#sk-container-id-1 div.sk-toggleable__content pre {margin: 0.2em;color: black;border-radius: 0.25em;background-color: #f0f8ff;}#sk-container-id-1 input.sk-toggleable__control:checked~div.sk-toggleable__content {max-height: 200px;max-width: 100%;overflow: auto;}#sk-container-id-1 input.sk-toggleable__control:checked~label.sk-toggleable__label-arrow:before {content: \"▾\";}#sk-container-id-1 div.sk-estimator input.sk-toggleable__control:checked~label.sk-toggleable__label {background-color: #d4ebff;}#sk-container-id-1 div.sk-label input.sk-toggleable__control:checked~label.sk-toggleable__label {background-color: #d4ebff;}#sk-container-id-1 input.sk-hidden--visually {border: 0;clip: rect(1px 1px 1px 1px);clip: rect(1px, 1px, 1px, 1px);height: 1px;margin: -1px;overflow: hidden;padding: 0;position: absolute;width: 1px;}#sk-container-id-1 div.sk-estimator {font-family: monospace;background-color: #f0f8ff;border: 1px dotted black;border-radius: 0.25em;box-sizing: border-box;margin-bottom: 0.5em;}#sk-container-id-1 div.sk-estimator:hover {background-color: #d4ebff;}#sk-container-id-1 div.sk-parallel-item::after {content: \"\";width: 100%;border-bottom: 1px solid gray;flex-grow: 1;}#sk-container-id-1 div.sk-label:hover label.sk-toggleable__label {background-color: #d4ebff;}#sk-container-id-1 div.sk-serial::before {content: \"\";position: absolute;border-left: 1px solid gray;box-sizing: border-box;top: 0;bottom: 0;left: 50%;z-index: 0;}#sk-container-id-1 div.sk-serial {display: flex;flex-direction: column;align-items: center;background-color: white;padding-right: 0.2em;padding-left: 0.2em;position: relative;}#sk-container-id-1 div.sk-item {position: relative;z-index: 1;}#sk-container-id-1 div.sk-parallel {display: flex;align-items: stretch;justify-content: center;background-color: white;position: relative;}#sk-container-id-1 div.sk-item::before, #sk-container-id-1 div.sk-parallel-item::before {content: \"\";position: absolute;border-left: 1px solid gray;box-sizing: border-box;top: 0;bottom: 0;left: 50%;z-index: -1;}#sk-container-id-1 div.sk-parallel-item {display: flex;flex-direction: column;z-index: 1;position: relative;background-color: white;}#sk-container-id-1 div.sk-parallel-item:first-child::after {align-self: flex-end;width: 50%;}#sk-container-id-1 div.sk-parallel-item:last-child::after {align-self: flex-start;width: 50%;}#sk-container-id-1 div.sk-parallel-item:only-child::after {width: 0;}#sk-container-id-1 div.sk-dashed-wrapped {border: 1px dashed gray;margin: 0 0.4em 0.5em 0.4em;box-sizing: border-box;padding-bottom: 0.4em;background-color: white;}#sk-container-id-1 div.sk-label label {font-family: monospace;font-weight: bold;display: inline-block;line-height: 1.2em;}#sk-container-id-1 div.sk-label-container {text-align: center;}#sk-container-id-1 div.sk-container {/* jupyter's `normalize.less` sets `[hidden] { display: none; }` but bootstrap.min.css set `[hidden] { display: none !important; }` so we also need the `!important` here to be able to override the default hidden behavior on the sphinx rendered scikit-learn.org. See: https://github.com/scikit-learn/scikit-learn/issues/21755 */display: inline-block !important;position: relative;}#sk-container-id-1 div.sk-text-repr-fallback {display: none;}</style><div id=\"sk-container-id-1\" class=\"sk-top-container\"><div class=\"sk-text-repr-fallback\"><pre>KMeans(n_clusters=2, random_state=42)</pre><b>In a Jupyter environment, please rerun this cell to show the HTML representation or trust the notebook. <br />On GitHub, the HTML representation is unable to render, please try loading this page with nbviewer.org.</b></div><div class=\"sk-container\" hidden><div class=\"sk-item\"><div class=\"sk-estimator sk-toggleable\"><input class=\"sk-toggleable__control sk-hidden--visually\" id=\"sk-estimator-id-1\" type=\"checkbox\" checked><label for=\"sk-estimator-id-1\" class=\"sk-toggleable__label sk-toggleable__label-arrow\">KMeans</label><div class=\"sk-toggleable__content\"><pre>KMeans(n_clusters=2, random_state=42)</pre></div></div></div></div></div>"
      ],
      "text/plain": [
       "KMeans(n_clusters=2, random_state=42)"
      ]
     },
     "execution_count": 54,
     "metadata": {},
     "output_type": "execute_result"
    }
   ],
   "source": [
    "km2 = KMeans(n_clusters=2, random_state=42)\n",
    "km2.fit(df_std)"
   ]
  },
  {
   "cell_type": "code",
   "execution_count": 55,
   "id": "8fa2ee19",
   "metadata": {},
   "outputs": [
    {
     "data": {
      "text/plain": [
       "array([1, 1, 1, ..., 1, 1, 1])"
      ]
     },
     "execution_count": 55,
     "metadata": {},
     "output_type": "execute_result"
    }
   ],
   "source": [
    "# add labels to the original dataset as a new column\n",
    "labels = km2.labels_\n",
    "labels"
   ]
  },
  {
   "cell_type": "code",
   "execution_count": 56,
   "id": "b549db2d",
   "metadata": {},
   "outputs": [
    {
     "data": {
      "text/html": [
       "<div>\n",
       "<style scoped>\n",
       "    .dataframe tbody tr th:only-of-type {\n",
       "        vertical-align: middle;\n",
       "    }\n",
       "\n",
       "    .dataframe tbody tr th {\n",
       "        vertical-align: top;\n",
       "    }\n",
       "\n",
       "    .dataframe thead th {\n",
       "        text-align: right;\n",
       "    }\n",
       "</style>\n",
       "<table border=\"1\" class=\"dataframe\">\n",
       "  <thead>\n",
       "    <tr style=\"text-align: right;\">\n",
       "      <th></th>\n",
       "      <th>Balance</th>\n",
       "      <th>Qual_miles</th>\n",
       "      <th>cc1_miles</th>\n",
       "      <th>cc2_miles</th>\n",
       "      <th>cc3_miles</th>\n",
       "      <th>Bonus_miles</th>\n",
       "      <th>Bonus_trans</th>\n",
       "      <th>Flight_miles_12mo</th>\n",
       "      <th>Flight_trans_12</th>\n",
       "      <th>Days_since_enroll</th>\n",
       "      <th>Award</th>\n",
       "      <th>k_cluster_labels</th>\n",
       "    </tr>\n",
       "    <tr>\n",
       "      <th>ID</th>\n",
       "      <th></th>\n",
       "      <th></th>\n",
       "      <th></th>\n",
       "      <th></th>\n",
       "      <th></th>\n",
       "      <th></th>\n",
       "      <th></th>\n",
       "      <th></th>\n",
       "      <th></th>\n",
       "      <th></th>\n",
       "      <th></th>\n",
       "      <th></th>\n",
       "    </tr>\n",
       "  </thead>\n",
       "  <tbody>\n",
       "    <tr>\n",
       "      <th>1</th>\n",
       "      <td>28143</td>\n",
       "      <td>0</td>\n",
       "      <td>1</td>\n",
       "      <td>1</td>\n",
       "      <td>1</td>\n",
       "      <td>174</td>\n",
       "      <td>1</td>\n",
       "      <td>0</td>\n",
       "      <td>0</td>\n",
       "      <td>7000</td>\n",
       "      <td>0</td>\n",
       "      <td>1</td>\n",
       "    </tr>\n",
       "    <tr>\n",
       "      <th>2</th>\n",
       "      <td>19244</td>\n",
       "      <td>0</td>\n",
       "      <td>1</td>\n",
       "      <td>1</td>\n",
       "      <td>1</td>\n",
       "      <td>215</td>\n",
       "      <td>2</td>\n",
       "      <td>0</td>\n",
       "      <td>0</td>\n",
       "      <td>6968</td>\n",
       "      <td>0</td>\n",
       "      <td>1</td>\n",
       "    </tr>\n",
       "    <tr>\n",
       "      <th>3</th>\n",
       "      <td>41354</td>\n",
       "      <td>0</td>\n",
       "      <td>1</td>\n",
       "      <td>1</td>\n",
       "      <td>1</td>\n",
       "      <td>4123</td>\n",
       "      <td>4</td>\n",
       "      <td>0</td>\n",
       "      <td>0</td>\n",
       "      <td>7034</td>\n",
       "      <td>0</td>\n",
       "      <td>1</td>\n",
       "    </tr>\n",
       "    <tr>\n",
       "      <th>4</th>\n",
       "      <td>14776</td>\n",
       "      <td>0</td>\n",
       "      <td>1</td>\n",
       "      <td>1</td>\n",
       "      <td>1</td>\n",
       "      <td>500</td>\n",
       "      <td>1</td>\n",
       "      <td>0</td>\n",
       "      <td>0</td>\n",
       "      <td>6952</td>\n",
       "      <td>0</td>\n",
       "      <td>1</td>\n",
       "    </tr>\n",
       "    <tr>\n",
       "      <th>5</th>\n",
       "      <td>97752</td>\n",
       "      <td>0</td>\n",
       "      <td>4</td>\n",
       "      <td>1</td>\n",
       "      <td>1</td>\n",
       "      <td>43300</td>\n",
       "      <td>26</td>\n",
       "      <td>2077</td>\n",
       "      <td>4</td>\n",
       "      <td>6935</td>\n",
       "      <td>1</td>\n",
       "      <td>0</td>\n",
       "    </tr>\n",
       "  </tbody>\n",
       "</table>\n",
       "</div>"
      ],
      "text/plain": [
       "    Balance  Qual_miles  cc1_miles  cc2_miles  cc3_miles  Bonus_miles  \\\n",
       "ID                                                                      \n",
       "1     28143           0          1          1          1          174   \n",
       "2     19244           0          1          1          1          215   \n",
       "3     41354           0          1          1          1         4123   \n",
       "4     14776           0          1          1          1          500   \n",
       "5     97752           0          4          1          1        43300   \n",
       "\n",
       "    Bonus_trans  Flight_miles_12mo  Flight_trans_12  Days_since_enroll  Award  \\\n",
       "ID                                                                              \n",
       "1             1                  0                0               7000      0   \n",
       "2             2                  0                0               6968      0   \n",
       "3             4                  0                0               7034      0   \n",
       "4             1                  0                0               6952      0   \n",
       "5            26               2077                4               6935      1   \n",
       "\n",
       "    k_cluster_labels  \n",
       "ID                    \n",
       "1                  1  \n",
       "2                  1  \n",
       "3                  1  \n",
       "4                  1  \n",
       "5                  0  "
      ]
     },
     "execution_count": 56,
     "metadata": {},
     "output_type": "execute_result"
    }
   ],
   "source": [
    "df_k = df.copy()\n",
    "df_k['k_cluster_labels'] = labels\n",
    "df_k.head()"
   ]
  },
  {
   "cell_type": "code",
   "execution_count": 59,
   "id": "210366c5",
   "metadata": {},
   "outputs": [
    {
     "data": {
      "text/html": [
       "<div>\n",
       "<style scoped>\n",
       "    .dataframe tbody tr th:only-of-type {\n",
       "        vertical-align: middle;\n",
       "    }\n",
       "\n",
       "    .dataframe tbody tr th {\n",
       "        vertical-align: top;\n",
       "    }\n",
       "\n",
       "    .dataframe thead th {\n",
       "        text-align: right;\n",
       "    }\n",
       "</style>\n",
       "<table border=\"1\" class=\"dataframe\">\n",
       "  <thead>\n",
       "    <tr style=\"text-align: right;\">\n",
       "      <th></th>\n",
       "      <th>Balance</th>\n",
       "      <th>Qual_miles</th>\n",
       "      <th>cc1_miles</th>\n",
       "      <th>cc2_miles</th>\n",
       "      <th>cc3_miles</th>\n",
       "      <th>Bonus_miles</th>\n",
       "      <th>Bonus_trans</th>\n",
       "      <th>Flight_miles_12mo</th>\n",
       "      <th>Flight_trans_12</th>\n",
       "      <th>Days_since_enroll</th>\n",
       "      <th>Award</th>\n",
       "    </tr>\n",
       "    <tr>\n",
       "      <th>k_cluster_labels</th>\n",
       "      <th></th>\n",
       "      <th></th>\n",
       "      <th></th>\n",
       "      <th></th>\n",
       "      <th></th>\n",
       "      <th></th>\n",
       "      <th></th>\n",
       "      <th></th>\n",
       "      <th></th>\n",
       "      <th></th>\n",
       "      <th></th>\n",
       "    </tr>\n",
       "  </thead>\n",
       "  <tbody>\n",
       "    <tr>\n",
       "      <th>0</th>\n",
       "      <td>132760.658986</td>\n",
       "      <td>257.798771</td>\n",
       "      <td>3.610599</td>\n",
       "      <td>1.009985</td>\n",
       "      <td>1.036866</td>\n",
       "      <td>41429.117512</td>\n",
       "      <td>20.380952</td>\n",
       "      <td>967.233487</td>\n",
       "      <td>2.902458</td>\n",
       "      <td>4942.417819</td>\n",
       "      <td>0.708909</td>\n",
       "    </tr>\n",
       "    <tr>\n",
       "      <th>1</th>\n",
       "      <td>45041.650352</td>\n",
       "      <td>89.232481</td>\n",
       "      <td>1.310716</td>\n",
       "      <td>1.016685</td>\n",
       "      <td>1.000371</td>\n",
       "      <td>5421.404894</td>\n",
       "      <td>7.363737</td>\n",
       "      <td>215.211346</td>\n",
       "      <td>0.635521</td>\n",
       "      <td>3720.834631</td>\n",
       "      <td>0.206897</td>\n",
       "    </tr>\n",
       "  </tbody>\n",
       "</table>\n",
       "</div>"
      ],
      "text/plain": [
       "                        Balance  Qual_miles  cc1_miles  cc2_miles  cc3_miles  \\\n",
       "k_cluster_labels                                                               \n",
       "0                 132760.658986  257.798771   3.610599   1.009985   1.036866   \n",
       "1                  45041.650352   89.232481   1.310716   1.016685   1.000371   \n",
       "\n",
       "                   Bonus_miles  Bonus_trans  Flight_miles_12mo  \\\n",
       "k_cluster_labels                                                 \n",
       "0                 41429.117512    20.380952         967.233487   \n",
       "1                  5421.404894     7.363737         215.211346   \n",
       "\n",
       "                  Flight_trans_12  Days_since_enroll     Award  \n",
       "k_cluster_labels                                                \n",
       "0                        2.902458        4942.417819  0.708909  \n",
       "1                        0.635521        3720.834631  0.206897  "
      ]
     },
     "execution_count": 59,
     "metadata": {},
     "output_type": "execute_result"
    }
   ],
   "source": [
    "# cluster profiles\n",
    "df_k.groupby('k_cluster_labels').mean()"
   ]
  },
  {
   "cell_type": "code",
   "execution_count": 61,
   "id": "f033334b",
   "metadata": {},
   "outputs": [
    {
     "data": {
      "image/png": "[encoded data removed]",
      "text/plain": [
       "<Figure size 720x360 with 1 Axes>"
      ]
     },
     "metadata": {},
     "output_type": "display_data"
    }
   ],
   "source": [
    "plt.figure(figsize=(10,5))\n",
    "sns.boxplot(x='k_cluster_labels', y='Bonus_trans', data=df_k);"
   ]
  },
  {
   "cell_type": "markdown",
   "id": "d822ed64",
   "metadata": {},
   "source": [
    "## <font color='purple'><b>DBSCAN :"
   ]
  },
  {
   "cell_type": "code",
   "execution_count": 62,
   "id": "d5ef7841",
   "metadata": {},
   "outputs": [],
   "source": [
    "from sklearn.cluster import DBSCAN"
   ]
  },
  {
   "cell_type": "markdown",
   "id": "abcc780c",
   "metadata": {},
   "source": [
    "### <font color='cyan'><b>To find Epsilon value :"
   ]
  },
  {
   "cell_type": "code",
   "execution_count": 64,
   "id": "a748adaa",
   "metadata": {},
   "outputs": [],
   "source": [
    "from sklearn.neighbors import NearestNeighbors"
   ]
  },
  {
   "cell_type": "code",
   "execution_count": 65,
   "id": "8e9185a3",
   "metadata": {
    "scrolled": true
   },
   "outputs": [],
   "source": [
    "df_std1 = df_std.copy()\n",
    "neighbors = NearestNeighbors(n_neighbors=20)\n",
    "neighbors_fit = neighbors.fit(df_std1)\n",
    "distances, indices = neighbors_fit.kneighbors(df_std1)"
   ]
  },
  {
   "cell_type": "code",
   "execution_count": 66,
   "id": "0fdf4c43",
   "metadata": {},
   "outputs": [
    {
     "data": {
      "text/plain": [
       "[<matplotlib.lines.Line2D at 0x2493c718a30>]"
      ]
     },
     "execution_count": 66,
     "metadata": {},
     "output_type": "execute_result"
    },
    {
     "data": {
      "image/png": "[encoded data removed]",
      "text/plain": [
       "<Figure size 720x576 with 1 Axes>"
      ]
     },
     "metadata": {},
     "output_type": "display_data"
    }
   ],
   "source": [
    "distances = np.sort(distances, axis=0)\n",
    "distances = distances[:,1]\n",
    "plt.figure(figsize=(10,8))\n",
    "plt.plot(distances)"
   ]
  },
  {
   "cell_type": "markdown",
   "id": "05d21f79",
   "metadata": {},
   "source": [
    "<font color='peach'><b>From the plot the point where knee occurs is approx. 1.00."
   ]
  },
  {
   "cell_type": "code",
   "execution_count": 94,
   "id": "d26af568",
   "metadata": {},
   "outputs": [],
   "source": [
    "min_samples = range(20,21)\n",
    "eps = np.arange(1.0,1.5,2.0)"
   ]
  },
  {
   "cell_type": "code",
   "execution_count": 95,
   "id": "9e3b5384",
   "metadata": {},
   "outputs": [],
   "source": [
    "output = []\n",
    "\n",
    "for ms in min_samples:\n",
    "    for ep in eps:\n",
    "        labels = DBSCAN(min_samples=ms, eps = ep).fit(df_std1).labels_\n",
    "        score = silhouette_score(df_std1, labels)\n",
    "        output.append((ms, ep, score))"
   ]
  },
  {
   "cell_type": "code",
   "execution_count": 96,
   "id": "80b426a8",
   "metadata": {},
   "outputs": [
    {
     "name": "stdout",
     "output_type": "stream",
     "text": [
      "Best silhouette_score: 0.21237566172659525\n",
      "min_samples: 20\n",
      "eps: 1.0\n"
     ]
    }
   ],
   "source": [
    "min_samples, eps, score = sorted(output, key=lambda x:x[-1])[-1]\n",
    "print(f\"Best silhouette_score: {score}\")\n",
    "print(f\"min_samples: {min_samples}\")\n",
    "print(f\"eps: {eps}\")"
   ]
  },
  {
   "cell_type": "markdown",
   "id": "b8c9e8f5",
   "metadata": {},
   "source": [
    "### <font color='cyan'><b>DBSCAN with epsilon=1.00 and min_samples=20 :"
   ]
  },
  {
   "cell_type": "code",
   "execution_count": 67,
   "id": "adb55364",
   "metadata": {},
   "outputs": [],
   "source": [
    "from collections import Counter"
   ]
  },
  {
   "cell_type": "code",
   "execution_count": 98,
   "id": "3f793c47",
   "metadata": {},
   "outputs": [
    {
     "name": "stdout",
     "output_type": "stream",
     "text": [
      "Number of clusters: 3\n",
      "Number of outliers: 775\n",
      "Silhouette_score: 0.21237566172659525\n"
     ]
    }
   ],
   "source": [
    "labels = DBSCAN(min_samples=min_samples, eps = 1.0).fit(df_std1).labels_\n",
    "clusters = len(Counter(labels))\n",
    "print(f\"Number of clusters: {clusters}\")\n",
    "print(f\"Number of outliers: {Counter(labels)[-1]}\")\n",
    "print(f\"Silhouette_score: {silhouette_score(df_std1, labels)}\")"
   ]
  },
  {
   "cell_type": "code",
   "execution_count": 87,
   "id": "69a711e5",
   "metadata": {},
   "outputs": [
    {
     "data": {
      "text/plain": [
       "array([0, 0, 0, ..., 1, 0, 0], dtype=int64)"
      ]
     },
     "execution_count": 87,
     "metadata": {},
     "output_type": "execute_result"
    }
   ],
   "source": [
    "labels"
   ]
  },
  {
   "cell_type": "code",
   "execution_count": 88,
   "id": "acee97fd",
   "metadata": {},
   "outputs": [
    {
     "data": {
      "text/html": [
       "<div>\n",
       "<style scoped>\n",
       "    .dataframe tbody tr th:only-of-type {\n",
       "        vertical-align: middle;\n",
       "    }\n",
       "\n",
       "    .dataframe tbody tr th {\n",
       "        vertical-align: top;\n",
       "    }\n",
       "\n",
       "    .dataframe thead th {\n",
       "        text-align: right;\n",
       "    }\n",
       "</style>\n",
       "<table border=\"1\" class=\"dataframe\">\n",
       "  <thead>\n",
       "    <tr style=\"text-align: right;\">\n",
       "      <th></th>\n",
       "      <th>Balance</th>\n",
       "      <th>Qual_miles</th>\n",
       "      <th>cc1_miles</th>\n",
       "      <th>cc2_miles</th>\n",
       "      <th>cc3_miles</th>\n",
       "      <th>Bonus_miles</th>\n",
       "      <th>Bonus_trans</th>\n",
       "      <th>Flight_miles_12mo</th>\n",
       "      <th>Flight_trans_12</th>\n",
       "      <th>Days_since_enroll</th>\n",
       "      <th>Award</th>\n",
       "      <th>dbscan_labels</th>\n",
       "    </tr>\n",
       "    <tr>\n",
       "      <th>ID</th>\n",
       "      <th></th>\n",
       "      <th></th>\n",
       "      <th></th>\n",
       "      <th></th>\n",
       "      <th></th>\n",
       "      <th></th>\n",
       "      <th></th>\n",
       "      <th></th>\n",
       "      <th></th>\n",
       "      <th></th>\n",
       "      <th></th>\n",
       "      <th></th>\n",
       "    </tr>\n",
       "  </thead>\n",
       "  <tbody>\n",
       "    <tr>\n",
       "      <th>1</th>\n",
       "      <td>28143</td>\n",
       "      <td>0</td>\n",
       "      <td>1</td>\n",
       "      <td>1</td>\n",
       "      <td>1</td>\n",
       "      <td>174</td>\n",
       "      <td>1</td>\n",
       "      <td>0</td>\n",
       "      <td>0</td>\n",
       "      <td>7000</td>\n",
       "      <td>0</td>\n",
       "      <td>0</td>\n",
       "    </tr>\n",
       "    <tr>\n",
       "      <th>2</th>\n",
       "      <td>19244</td>\n",
       "      <td>0</td>\n",
       "      <td>1</td>\n",
       "      <td>1</td>\n",
       "      <td>1</td>\n",
       "      <td>215</td>\n",
       "      <td>2</td>\n",
       "      <td>0</td>\n",
       "      <td>0</td>\n",
       "      <td>6968</td>\n",
       "      <td>0</td>\n",
       "      <td>0</td>\n",
       "    </tr>\n",
       "    <tr>\n",
       "      <th>3</th>\n",
       "      <td>41354</td>\n",
       "      <td>0</td>\n",
       "      <td>1</td>\n",
       "      <td>1</td>\n",
       "      <td>1</td>\n",
       "      <td>4123</td>\n",
       "      <td>4</td>\n",
       "      <td>0</td>\n",
       "      <td>0</td>\n",
       "      <td>7034</td>\n",
       "      <td>0</td>\n",
       "      <td>0</td>\n",
       "    </tr>\n",
       "    <tr>\n",
       "      <th>4</th>\n",
       "      <td>14776</td>\n",
       "      <td>0</td>\n",
       "      <td>1</td>\n",
       "      <td>1</td>\n",
       "      <td>1</td>\n",
       "      <td>500</td>\n",
       "      <td>1</td>\n",
       "      <td>0</td>\n",
       "      <td>0</td>\n",
       "      <td>6952</td>\n",
       "      <td>0</td>\n",
       "      <td>0</td>\n",
       "    </tr>\n",
       "    <tr>\n",
       "      <th>5</th>\n",
       "      <td>97752</td>\n",
       "      <td>0</td>\n",
       "      <td>4</td>\n",
       "      <td>1</td>\n",
       "      <td>1</td>\n",
       "      <td>43300</td>\n",
       "      <td>26</td>\n",
       "      <td>2077</td>\n",
       "      <td>4</td>\n",
       "      <td>6935</td>\n",
       "      <td>1</td>\n",
       "      <td>-1</td>\n",
       "    </tr>\n",
       "  </tbody>\n",
       "</table>\n",
       "</div>"
      ],
      "text/plain": [
       "    Balance  Qual_miles  cc1_miles  cc2_miles  cc3_miles  Bonus_miles  \\\n",
       "ID                                                                      \n",
       "1     28143           0          1          1          1          174   \n",
       "2     19244           0          1          1          1          215   \n",
       "3     41354           0          1          1          1         4123   \n",
       "4     14776           0          1          1          1          500   \n",
       "5     97752           0          4          1          1        43300   \n",
       "\n",
       "    Bonus_trans  Flight_miles_12mo  Flight_trans_12  Days_since_enroll  Award  \\\n",
       "ID                                                                              \n",
       "1             1                  0                0               7000      0   \n",
       "2             2                  0                0               6968      0   \n",
       "3             4                  0                0               7034      0   \n",
       "4             1                  0                0               6952      0   \n",
       "5            26               2077                4               6935      1   \n",
       "\n",
       "    dbscan_labels  \n",
       "ID                 \n",
       "1               0  \n",
       "2               0  \n",
       "3               0  \n",
       "4               0  \n",
       "5              -1  "
      ]
     },
     "execution_count": 88,
     "metadata": {},
     "output_type": "execute_result"
    }
   ],
   "source": [
    "df_db = df.copy()\n",
    "df_db['dbscan_labels'] = labels\n",
    "df_db.head()"
   ]
  },
  {
   "cell_type": "code",
   "execution_count": 89,
   "id": "4aaf1df3",
   "metadata": {},
   "outputs": [
    {
     "data": {
      "image/png": "[encoded data removed]",
      "text/plain": [
       "<Figure size 432x288 with 1 Axes>"
      ]
     },
     "metadata": {},
     "output_type": "display_data"
    }
   ],
   "source": [
    "sns.countplot(x='dbscan_labels',data=df_db,palette='flare');"
   ]
  },
  {
   "cell_type": "markdown",
   "id": "7388861c",
   "metadata": {},
   "source": [
    "<font color='peach'><b>cluster 0 has higher number of passengers and also more awards."
   ]
  },
  {
   "cell_type": "code",
   "execution_count": null,
   "id": "05036b05",
   "metadata": {},
   "outputs": [],
   "source": []
  }
 ],
 "metadata": {
  "kernelspec": {
   "display_name": "Python 3 (ipykernel)",
   "language": "python",
   "name": "python3"
  },
  "language_info": {
   "codemirror_mode": {
    "name": "ipython",
    "version": 3
   },
   "file_extension": ".py",
   "mimetype": "text/x-python",
   "name": "python",
   "nbconvert_exporter": "python",
   "pygments_lexer": "ipython3",
   "version": "3.9.12"
  }
 },
 "nbformat": 4,
 "nbformat_minor": 5
}
